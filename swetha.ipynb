{
 "cells": [
  {
   "cell_type": "code",
   "execution_count": 1,
   "metadata": {},
   "outputs": [
    {
     "name": "stdout",
     "output_type": "stream",
     "text": [
      "swetha\n"
     ]
    }
   ],
   "source": [
    "#print name\n",
    "print('swetha')"
   ]
  },
  {
   "cell_type": "code",
   "execution_count": 2,
   "metadata": {},
   "outputs": [
    {
     "name": "stdout",
     "output_type": "stream",
     "text": [
      "enter a4\n",
      "enter b5\n",
      "9\n"
     ]
    }
   ],
   "source": [
    "#addition\n",
    "a=int(input('enter a'))\n",
    "b=int(input('enter b'))\n",
    "print(a+b)"
   ]
  },
  {
   "cell_type": "code",
   "execution_count": 5,
   "metadata": {},
   "outputs": [
    {
     "name": "stdout",
     "output_type": "stream",
     "text": [
      "Enter number of elements : 1\n",
      "2\n",
      "enter the key3\n"
     ]
    },
    {
     "data": {
      "text/plain": [
       "-1"
      ]
     },
     "execution_count": 5,
     "metadata": {},
     "output_type": "execute_result"
    }
   ],
   "source": [
    "#linearsearch\n",
    "def linearsearch(arr, x):\n",
    "   for i in range(len(arr)):\n",
    "      if arr[i] == x:\n",
    "         return i\n",
    "   return -1\n",
    "\n",
    "\n",
    "a = []\n",
    "n = int(input(\"Enter number of elements : \"))\n",
    "for i in range(0, n):\n",
    "    ele = int(input())\n",
    "    a.append(ele)\n",
    "\n",
    "k=int(input(\"enter the key\"))\n",
    "linearsearch(a,k)"
   ]
  },
  {
   "cell_type": "code",
   "execution_count": 18,
   "metadata": {},
   "outputs": [
    {
     "ename": "SyntaxError",
     "evalue": "'return' outside function (<ipython-input-18-e741a7e39c2d>, line 9)",
     "output_type": "error",
     "traceback": [
      "\u001b[0;36m  File \u001b[0;32m\"<ipython-input-18-e741a7e39c2d>\"\u001b[0;36m, line \u001b[0;32m9\u001b[0m\n\u001b[0;31m    return -1;\u001b[0m\n\u001b[0m    ^\u001b[0m\n\u001b[0;31mSyntaxError\u001b[0m\u001b[0;31m:\u001b[0m 'return' outside function\n"
     ]
    }
   ],
   "source": [
    "#binary search\n",
    "def binarysearch(arr,k,first,last):\n",
    "    mid=int (first+last/2);\n",
    "    if arr[mid]==k:\n",
    "        return mid;\n",
    "    elif arr[mid]>k:\n",
    "        return binarysearch(arr,k,first,mid-1)\n",
    "    elif arr[mid]<k:\n",
    "        return binarysearch(arr,k,mid+1,last)\n",
    "return -1;\n",
    "  \n",
    "\n",
    "a = []\n",
    "n = int(input(\"Enter number of elements : \"))\n",
    "for i in range(0, n):\n",
    "    ele = int(input())\n",
    "    a.append(ele)\n",
    "k=int(input(\"enter the key\"))\n",
    "res=int(binarysearch(a,k,0,n));\n",
    "print(res);"
   ]
  },
  {
   "cell_type": "code",
   "execution_count": 24,
   "metadata": {},
   "outputs": [
    {
     "name": "stdout",
     "output_type": "stream",
     "text": [
      "Enter number of elements : 4\n",
      "3\n",
      "2\n",
      "1\n",
      "6\n",
      "[1, 2, 3, 6]\n"
     ]
    }
   ],
   "source": [
    "#bubble sort\n",
    "a = []\n",
    "n = int(input(\"Enter number of elements : \"))\n",
    "for i in range(0, n):\n",
    "    ele = int(input())\n",
    "    a.append(ele)\n",
    "\n",
    "for i in range(0,n):\n",
    "    ele=a[i]\n",
    "    for j in range(i+1,n):\n",
    "        if(a[j]<ele):\n",
    "            temp=a[i]\n",
    "            a[i]=a[j]\n",
    "            a[j]=temp;\n",
    "print(a)\n",
    "    "
   ]
  },
  {
   "cell_type": "code",
   "execution_count": 30,
   "metadata": {},
   "outputs": [
    {
     "data": {
      "text/plain": [
       "['hi my name is shwetha\\n', '\\n']"
      ]
     },
     "execution_count": 30,
     "metadata": {},
     "output_type": "execute_result"
    }
   ],
   "source": [
    "#reading from a text file\n",
    "file1 = open(\"/home/root1/1.txt\",\"r\")\n",
    "file1.readlines()"
   ]
  },
  {
   "cell_type": "code",
   "execution_count": null,
   "metadata": {},
   "outputs": [],
   "source": [
    "# selection sort\n",
    "arr =[]\n",
    "n=int(input(\"Enter the size of array:\"))\n",
    "for i in range(0,n):\n",
    "    ele=int(input())\n",
    "    arr.append(ele)\n",
    "\n",
    "pos=-1\n",
    "for i in range(0,n):\n",
    "    pos=i\n",
    "    for j in range(i+1,n):\n",
    "        if(arr[j]<arr[pos]):\n",
    "            pos=j\n",
    "    if(pos!=i):\n",
    "        temp=arr[i]\n",
    "        arr[i]=arr[pos]\n",
    "        arr[pos]=temp\n",
    "       \n",
    "print(arr)"
   ]
  },
  {
   "cell_type": "code",
   "execution_count": null,
   "metadata": {},
   "outputs": [],
   "source": []
  }
 ],
 "metadata": {
  "kernelspec": {
   "display_name": "Python 3",
   "language": "python",
   "name": "python3"
  },
  "language_info": {
   "codemirror_mode": {
    "name": "ipython",
    "version": 3
   },
   "file_extension": ".py",
   "mimetype": "text/x-python",
   "name": "python",
   "nbconvert_exporter": "python",
   "pygments_lexer": "ipython3",
   "version": "3.8.10"
  }
 },
 "nbformat": 4,
 "nbformat_minor": 4
}
